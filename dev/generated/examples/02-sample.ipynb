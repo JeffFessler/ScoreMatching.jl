{
 "cells": [
  {
   "cell_type": "markdown",
   "source": [
    "# Sampling\n",
    "\n",
    "WIP on sampling using a score model."
   ],
   "metadata": {}
  },
  {
   "cell_type": "markdown",
   "source": [
    "### Setup"
   ],
   "metadata": {}
  },
  {
   "cell_type": "markdown",
   "source": [
    "Packages needed here."
   ],
   "metadata": {}
  },
  {
   "outputs": [],
   "cell_type": "code",
   "source": [
    "using MIRTjim: jim, prompt\n",
    "using Distributions: Distribution, Normal, MixtureModel, logpdf, pdf\n",
    "import Distributions # var, mean\n",
    "import Distributions: logpdf, pdf\n",
    "import ForwardDiff # derivative, gradient\n",
    "using LaTeXStrings\n",
    "using Printf: @sprintf\n",
    "using Random: shuffle, seed!; seed!(0)\n",
    "using StatsBase: mean, std\n",
    "using Plots: Plot, plot, plot!, scatter, scatter!, histogram, quiver!\n",
    "using Plots: @animate, gif\n",
    "import Plots # Animation\n",
    "using Plots: default, gui, savefig\n",
    "using Plots.PlotMeasures: px\n",
    "default(label=\"\", markerstrokecolor=:auto, linewidth=2,\n",
    " labelfontsize = 14, tickfontsize = 12, legendfontsize = 14,\n",
    ")"
   ],
   "metadata": {},
   "execution_count": null
  },
  {
   "cell_type": "markdown",
   "source": [
    "The following line is helpful when running this file as a script;\n",
    "this way it will prompt user to hit a key after each figure is displayed."
   ],
   "metadata": {}
  },
  {
   "outputs": [],
   "cell_type": "code",
   "source": [
    "isinteractive() ? jim(:prompt, true) : prompt(:prompt);"
   ],
   "metadata": {},
   "execution_count": null
  },
  {
   "cell_type": "markdown",
   "source": [
    "## Overview\n",
    "\n",
    "Given a score function\n",
    "$\n",
    "\\bm{s}(\\bm{x}; \\bm{θ}) =\n",
    "\\nabla_{\\bm{x}} \\log p(\\bm{x}; \\bm{θ}),\n",
    "$\n",
    "one can use Langevin dynamics\n",
    "to draw samples from\n",
    "$p(\\bm{x}; \\bm{θ}).$"
   ],
   "metadata": {}
  },
  {
   "cell_type": "markdown",
   "source": [
    "## Illustration\n",
    "\n",
    "Sampling from a gaussian mixture distribution."
   ],
   "metadata": {}
  },
  {
   "cell_type": "markdown",
   "source": [
    "Some convenience methods"
   ],
   "metadata": {}
  },
  {
   "outputs": [],
   "cell_type": "code",
   "source": [
    "logpdf(d::Distribution) = x -> logpdf(d, x)\n",
    "pdf(d::Distribution) = x -> pdf(d, x)\n",
    "derivative(f::Function) = x -> ForwardDiff.derivative(f, x)\n",
    "gradient(f::Function) = x -> ForwardDiff.gradient(f, x)\n",
    "# hessian(f::Function) = x -> ForwardDiff.hessian(f, x)\n",
    "score(d::Distribution) = derivative(logpdf(d))\n",
    "score_deriv(d::Distribution) = derivative(score(d)); # scalar x only\n",
    "\n",
    "\n",
    "mix = MixtureModel(Normal, [(3,1), (13,3)], [0.4, 0.6])\n",
    "\n",
    "left_margin = 20px; bottom_margin = 10px\n",
    "xaxis = (L\"x\", (-4,24), [0, 3, 13, 20])\n",
    "pmp = plot(pdf(mix); label=\"Gaussian mixture pdf\", color = :blue,\n",
    " left_margin, bottom_margin, xaxis, size=(600,300),\n",
    " yaxis = (L\"p(x)\", (0, 0.17), (0:3)*0.05),\n",
    ")\n",
    "\n",
    "score1 = score(mix)\n",
    "\n",
    "ylabel_score1 = L\"s(x) = \\frac{\\mathrm{d}}{\\mathrm{d}x} \\, \\log \\ p(x)\"\n",
    "ps1 = plot(score1; xaxis, color=:magenta,\n",
    " size=(600,300), label = \"GMM score function\",\n",
    " yaxis = (ylabel_score1, (-5,5), -4:2:4), left_margin, bottom_margin,\n",
    ")\n",
    "\n",
    "pps = plot(pmp, ps1, layout=(2,1))"
   ],
   "metadata": {},
   "execution_count": null
  },
  {
   "outputs": [],
   "cell_type": "code",
   "source": [
    "prompt()\n",
    "\n",
    "\n",
    "function sampler( ;\n",
    "    score::Function = score1,\n",
    "    T::Int = 600,\n",
    "    α0::Real = 1,\n",
    "    p0::Real = 0.99,\n",
    "    alpha::AbstractVector = (@. α0 * (p0 ^ (1:T))^2),\n",
    "    ntrial::Int = 1000, # for ph\n",
    "    beta::Real = 1,\n",
    "    seed::Int = 0,\n",
    "    init_mean::Real = Distributions.mean(mix), # todo: cheating?\n",
    "    init_std::Real = sqrt(Distributions.var(mix)),\n",
    ")\n",
    "\n",
    "    seed!(seed)\n",
    "    xrun = Matrix{Float32}(undef, ntrial, T+1)\n",
    "    xrun[:,1] = init_mean .+ init_std * randn(ntrial)\n",
    "\n",
    "    for it in 1:T\n",
    "        old = xrun[:,it]\n",
    "        αt = alpha[it]\n",
    "        xrun[:,it+1] = old + αt * score.(old) + sqrt(2*beta*αt) * randn(ntrial)\n",
    "    end\n",
    "    return xrun\n",
    "end;\n",
    "\n",
    "\n",
    "if !@isdefined(xrun) || true\n",
    "    T = 600\n",
    "    ntrial = 5000\n",
    "    xrun = sampler(; T, ntrial)\n",
    "end;\n",
    "\n",
    "ntrace = 50\n",
    "psl = plot(xrun[1:ntrace,:]', xlabel=\"Iteration (t)\",\n",
    " xticks = 0:100:T,\n",
    " yaxis = (L\"x_t\", (-4,26), [0, 3, 13, 20]),\n",
    " annotate = (T, -2, \"$ntrace generated samples\", :right),\n",
    ")"
   ],
   "metadata": {},
   "execution_count": null
  },
  {
   "outputs": [],
   "cell_type": "code",
   "source": [
    "prompt()\n",
    "# savefig(psl, \"gmm-prior-trace-$ntrace.pdf\")\n",
    "\n",
    "\n",
    "function gmm_hist(it::Int)\n",
    "    ph = histogram(xrun[:,it];\n",
    "        bins = -12:0.5:36, xaxis,\n",
    "        label = \"$ntrial generated samples\", normalize = true,\n",
    "        yaxis = (L\"p(x)\", (0, 0.17), 0:0.1:0.2),\n",
    "        annotate = (-3, 0.14, \"t = $it\", :left),\n",
    "    )\n",
    "    plot!(ph, x -> pdf(mix)(x);\n",
    "         linewidth=3, color=:black, label=\"GMM Distribution\",\n",
    "    )\n",
    "    return ph\n",
    "end"
   ],
   "metadata": {},
   "execution_count": null
  },
  {
   "cell_type": "markdown",
   "source": [
    "Animate sampling process over time"
   ],
   "metadata": {}
  },
  {
   "outputs": [],
   "cell_type": "code",
   "source": [
    "if isinteractive()\n",
    "    ph = gmm_hist(T)\n",
    "else\n",
    "    anim = @animate for it in [1:10; 20:10:100; 200:100:T]\n",
    "        ph = gmm_hist(it)\n",
    "    # tmp = @sprintf(\"%03d\", it)\n",
    "    # savefig(ph, \"gmm-prior-sample-$ntrial,$tmp.pdf\")\n",
    "    end\n",
    "    gif(anim, \"gmm-hist.gif\", fps = 6)\n",
    "end"
   ],
   "metadata": {},
   "execution_count": null
  },
  {
   "outputs": [],
   "cell_type": "code",
   "source": [
    "prompt()\n",
    "# savefig(ph, \"gmm-prior-sample-$ntrial.pdf\")"
   ],
   "metadata": {},
   "execution_count": null
  },
  {
   "cell_type": "markdown",
   "source": [
    "Kernel density estimate and its score function"
   ],
   "metadata": {}
  },
  {
   "outputs": [],
   "cell_type": "code",
   "source": [
    "ntrain = 200\n",
    "train_data = rand(mix, ntrain)\n",
    "gsig = 0.9\n",
    "\n",
    "kde = MixtureModel(Normal, [(x, gsig) for x in train_data])\n",
    "pkd = deepcopy(pmp)\n",
    "plot!(pkd, pdf(kde); xaxis, label=\"KDE, σ=$gsig\", widen=true, color=:green)\n",
    "scatter!(pkd, train_data, zeros(ntrain), label=\"data, N=$ntrain\", color=:black)"
   ],
   "metadata": {},
   "execution_count": null
  },
  {
   "outputs": [],
   "cell_type": "code",
   "source": [
    "prompt()\n",
    "# savefig(pkd, \"gmm-kde-pdf-$ntrain.pdf\")\n",
    "\n",
    "pks = deepcopy(ps1)\n",
    "plot!(pks, score(kde), label=\"KDE score, σ=$gsig\", color=:green)"
   ],
   "metadata": {},
   "execution_count": null
  },
  {
   "outputs": [],
   "cell_type": "code",
   "source": [
    "prompt()\n",
    "# savefig(pks, \"gmm-kde-score-$ntrain.pdf\")\n",
    "\n",
    "# plot(pkd, pks; layout=(2,1))"
   ],
   "metadata": {},
   "execution_count": null
  },
  {
   "cell_type": "markdown",
   "source": [
    "---\n",
    "\n",
    "*This notebook was generated using [Literate.jl](https://github.com/fredrikekre/Literate.jl).*"
   ],
   "metadata": {}
  }
 ],
 "nbformat_minor": 3,
 "metadata": {
  "language_info": {
   "file_extension": ".jl",
   "mimetype": "application/julia",
   "name": "julia",
   "version": "1.10.0"
  },
  "kernelspec": {
   "name": "julia-1.10",
   "display_name": "Julia 1.10.0",
   "language": "julia"
  }
 },
 "nbformat": 4
}
