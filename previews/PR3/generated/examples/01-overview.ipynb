{
 "cells": [
  {
   "cell_type": "markdown",
   "source": [
    "# Score Matching overview\n",
    "\n",
    "This page introduces the Julia package\n",
    "[`ScoreMatching`](https://github.com/JeffFessler/ScoreMatching.jl).\n",
    "\n",
    "This page was generated from a single Julia file:\n",
    "[01-overview.jl](https://github.com/JeffFessler/ScoreMatching.jl/blob/main/docs/lit/examples/01-overview.jl)."
   ],
   "metadata": {}
  },
  {
   "cell_type": "markdown",
   "source": [
    "### Setup"
   ],
   "metadata": {}
  },
  {
   "cell_type": "markdown",
   "source": [
    "Packages needed here."
   ],
   "metadata": {}
  },
  {
   "outputs": [],
   "cell_type": "code",
   "source": [
    "using ScoreMatching\n",
    "using MIRTjim: jim, prompt\n",
    "using Distributions: Distribution, Normal, MixtureModel, logpdf, pdf\n",
    "using Distributions: Cauchy, Gamma, Logistic, TDist\n",
    "import Distributions: logpdf, pdf\n",
    "import ForwardDiff\n",
    "using LinearAlgebra: tr, norm\n",
    "using LaTeXStrings\n",
    "using Random: seed!; seed!(0)\n",
    "using StatsBase: mean\n",
    "using Optim: optimize, BFGS, Fminbox\n",
    "import Optim: minimizer\n",
    "using Plots: plot, plot!, scatter, histogram, default, gui\n",
    "using InteractiveUtils: versioninfo\n",
    "default(label=\"\", markerstrokecolor=:auto)"
   ],
   "metadata": {},
   "execution_count": null
  },
  {
   "cell_type": "markdown",
   "source": [
    "The following line is helpful when running this file as a script;\n",
    "this way it will prompt user to hit a key after each figure is displayed."
   ],
   "metadata": {}
  },
  {
   "outputs": [],
   "cell_type": "code",
   "source": [
    "isinteractive() ? jim(:prompt, true) : prompt(:prompt);"
   ],
   "metadata": {},
   "execution_count": null
  },
  {
   "cell_type": "markdown",
   "source": [
    "## Overview\n",
    "\n",
    "Given $T$\n",
    "[IID](https://en.wikipedia.org/wiki/Independent_and_identically_distributed_random_variables)\n",
    "training data samples\n",
    "$\\mathbf{x}_1, …, \\mathbf{x}_T ∈ \\mathbb{R}^N$,\n",
    "we often want to find the parameters\n",
    "$\\mathbf{θ}$\n",
    "of a model distribution\n",
    "$p(\\mathbf{x}; \\mathbf{θ})$\n",
    "that \"best fit\" the data.\n",
    "\n",
    "Maximum-likelihood estimation\n",
    "is impractical for complicated models\n",
    "where the normalizing constant is intractable.\n",
    "\n",
    "[Hyvärinen 2005](http://jmlr.org/papers/v6/hyvarinen05a.html)\n",
    "proposed an alternative called\n",
    "_score matching_\n",
    "that circumvents\n",
    "needing to find the normalizing constant.\n",
    "\n",
    "The idea behind the score matching approach\n",
    "to model fitting is\n",
    "$$\n",
    "\\hat{\\mathbf{θ}} = \\arg \\min_{\\mathbf{θ}}\n",
    "J(\\mathbf{θ})\n",
    ",\\qquad\n",
    "J(\\mathbf{θ}) =\n",
    "\\frac{1}{T} ∑_{t=1}^T\n",
    "\\| \\mathbf{s}(\\mathbf{x}_t; \\mathbf{θ}) - \\mathbf{s}(\\mathbf{x}_t) \\|^2\n",
    "$$\n",
    "where\n",
    "$\n",
    "\\mathbf{s}(\\mathbf{x}; \\mathbf{θ}) =\n",
    "\\nabla_{\\mathbf{x}} \\log p(\\mathbf{x}; \\mathbf{θ})\n",
    "$\n",
    "is the _score function_\n",
    "of the model distribution,\n",
    "and\n",
    "$\n",
    "\\mathbf{s}(\\mathbf{x}) =\n",
    "\\nabla_{\\mathbf{x}} \\log p(\\mathbf{x})\n",
    "$\n",
    "is the _score function_\n",
    "of the (typically unknown) data distribution.\n",
    "\n",
    "[Vincent, 2011](https://doi.org/10.1162/NECO_a_00142)\n",
    "calls this approach\n",
    "_explicit score matching_ (ESM).\n",
    "\n",
    "## Illustration\n",
    "\n",
    "For didactic purposes,\n",
    "we illustrate explicit score matching\n",
    "by fitting samples from a\n",
    "[Gamma distribution](https://en.wikipedia.org/wiki/Gamma_distribution)\n",
    "to a mixture of gaussians."
   ],
   "metadata": {}
  },
  {
   "cell_type": "markdown",
   "source": [
    "Some convenience methods"
   ],
   "metadata": {}
  },
  {
   "outputs": [],
   "cell_type": "code",
   "source": [
    "logpdf(d::Distribution) = x -> logpdf(d, x)\n",
    "pdf(d::Distribution) = x -> pdf(d, x)\n",
    "derivative(f::Function) = x -> ForwardDiff.derivative(f, x)\n",
    "gradient(f::Function) = x -> ForwardDiff.gradient(f, x)\n",
    "# hessian(f::Function) = x -> ForwardDiff.hessian(f, x)\n",
    "score(d::Distribution) = derivative(logpdf(d))\n",
    "score_deriv(d::Distribution) = derivative(score(d)) # scalar x only"
   ],
   "metadata": {},
   "execution_count": null
  },
  {
   "cell_type": "markdown",
   "source": [
    "Generate training data"
   ],
   "metadata": {}
  },
  {
   "outputs": [],
   "cell_type": "code",
   "source": [
    "T = 100\n",
    "data_disn = :(Gamma(8, 1))\n",
    "data_dis = eval(data_disn)\n",
    "data_score = derivative(logpdf(data_dis))\n",
    "data = rand(data_dis, T)\n",
    "xlims = (-1, 25)\n",
    "xticks = [0, 8, 24]\n",
    "pf = scatter(data, zeros(T); xlims, xticks, color=:black)\n",
    "ph = histogram(data;\n",
    " bins=-1:0.5:25, xlims, xticks, label=\"data histogram\")\n",
    "plot!(ph, x -> T*0.5 * pdf(data_dis)(x);\n",
    " color=:black, label=\"$data_disn Distribution\")"
   ],
   "metadata": {},
   "execution_count": null
  },
  {
   "cell_type": "markdown",
   "source": [
    "To perform unconstrained minimization\n",
    "of a $D$-component mixture,\n",
    "the following mapping from $\\mathbb{R}^{D-1}$\n",
    "to the $D$-dimensional simplex is helpful.\n",
    "It is the inverse of the\n",
    "[additive logratio transform](https://en.wikipedia.org/wiki/Compositional_data#Additive_logratio_transform).\n",
    "(It is related to the\n",
    "[softmax function](https://en.wikipedia.org/wiki/Softmax_function)."
   ],
   "metadata": {}
  },
  {
   "outputs": [],
   "cell_type": "code",
   "source": [
    "function map_r_s(y::AbstractVector; scale::Real = 1.0)\n",
    "    y = scale * [y; 0]\n",
    "    y .-= maximum(y) # for numerical stability\n",
    "    p = exp.(y)\n",
    "    return p / sum(p)\n",
    "end\n",
    "map_r_s(y::Real...) = map_r_s([y...])\n",
    "\n",
    "y1 = range(-1,1,101) * 9\n",
    "y2 = range(-1,1,101) * 9\n",
    "tmp = map_r_s.(y1, y2')\n",
    "pj = jim(y1, y2, tmp; title=\"Simplex parameterization\", nrow=1)"
   ],
   "metadata": {},
   "execution_count": null
  },
  {
   "cell_type": "markdown",
   "source": [
    "Define model distribution"
   ],
   "metadata": {}
  },
  {
   "outputs": [],
   "cell_type": "code",
   "source": [
    "nmix = 3 # how many gaussians in the mixture model\n",
    "function model(θ ;\n",
    "    σmin::Real = 1,\n",
    "    σmax::Real = 19,\n",
    ")\n",
    "    mu = θ[1:nmix]\n",
    "    sig = θ[nmix .+ (1:nmix)]\n",
    "    any(<(σmin), sig) && throw(\"too small σ\")\n",
    "    any(>(σmax), sig) && throw(\"too big σ $sig\")\n",
    "    # sig = σmin .+ exp.(sig) # ensure σ > 0\n",
    "    # sig = @. σmin + (σmax - σmin) * (tanh(sig/2) + 1) / 2 # \"constraints\"\n",
    "    p = map_r_s(θ[2nmix .+ (1:(nmix-1))])\n",
    "    tmp = [(μ,σ) for (μ,σ) in zip(mu, sig)]\n",
    "    mix = MixtureModel(Normal, tmp, p)\n",
    "    return mix\n",
    "end;"
   ],
   "metadata": {},
   "execution_count": null
  },
  {
   "cell_type": "markdown",
   "source": [
    "Define explicit score-matching cost function"
   ],
   "metadata": {}
  },
  {
   "outputs": [],
   "cell_type": "code",
   "source": [
    "function cost_esm2(x::AbstractVector{<:Real}, θ)\n",
    "    model_score = score(model(θ))\n",
    "    return (0.5/T) * sum(abs2, model_score.(x) - data_score.(x))\n",
    "end;"
   ],
   "metadata": {},
   "execution_count": null
  },
  {
   "cell_type": "markdown",
   "source": [
    "Minimize this explicit score-matching cost function:"
   ],
   "metadata": {}
  },
  {
   "outputs": [],
   "cell_type": "code",
   "source": [
    "β = 0e-4 # optional small regularizer to ensure coercive\n",
    "cost_esm1 = (θ) -> cost_esm2(data, θ) + β * 0.5 * norm(θ)^2;"
   ],
   "metadata": {},
   "execution_count": null
  },
  {
   "cell_type": "markdown",
   "source": [
    "Initial crude guess of mixture model parameters"
   ],
   "metadata": {}
  },
  {
   "outputs": [],
   "cell_type": "code",
   "source": [
    "θ0 = Float64[5, 7, 9, 1.5, 1.5, 1.5, 0, 0]; # Gamma"
   ],
   "metadata": {},
   "execution_count": null
  },
  {
   "cell_type": "markdown",
   "source": [
    "Plot data pdf and initial model pdf"
   ],
   "metadata": {}
  },
  {
   "outputs": [],
   "cell_type": "code",
   "source": [
    "plot!(pf, pdf(data_dis); xlims, xticks, label=\"$data_disn pdf\",\n",
    "    color = :black,\n",
    "    xlabel = L\"x\",\n",
    "    ylabel = L\"p(x) \\ \\mathrm{ and } \\ p(x;θ)\",\n",
    ")\n",
    "plot!(pf, pdf(model(θ0)), label = \"Initial Gaussian mixture\", color=:blue)"
   ],
   "metadata": {},
   "execution_count": null
  },
  {
   "outputs": [],
   "cell_type": "code",
   "source": [
    "prompt()"
   ],
   "metadata": {},
   "execution_count": null
  },
  {
   "cell_type": "markdown",
   "source": [
    "Check descent and non-convexity"
   ],
   "metadata": {}
  },
  {
   "outputs": [],
   "cell_type": "code",
   "source": [
    "if false\n",
    "    tmp = gradient(cost_esm1)(θ0)\n",
    "    a = range(0, 9, 101)\n",
    "    h = a -> cost_esm1(θ0 - a * tmp)\n",
    "    plot(a, log.(h.(a)))\n",
    "end"
   ],
   "metadata": {},
   "execution_count": null
  },
  {
   "cell_type": "markdown",
   "source": [
    "## Explicit score matching (impractical)"
   ],
   "metadata": {}
  },
  {
   "outputs": [],
   "cell_type": "code",
   "source": [
    "lower = [fill(0, nmix); fill(1.0, nmix); fill(-Inf, nmix-1)]\n",
    "upper = [fill(Inf, nmix); fill(Inf, nmix); fill(Inf, nmix-1)]\n",
    "opt_esm = optimize(cost_esm1, lower, upper, θ0, Fminbox(BFGS());\n",
    " autodiff = :forward)\n",
    "##opt_esm = optimize(cost_esm1, θ0, BFGS(); autodiff = :forward) # unconstrained\n",
    "θesm = minimizer(opt_esm)\n",
    "\n",
    "plot!(pf, pdf(model(θesm)), label = \"ESM Gaussian mixture\", color=:green)"
   ],
   "metadata": {},
   "execution_count": null
  },
  {
   "outputs": [],
   "cell_type": "code",
   "source": [
    "prompt()"
   ],
   "metadata": {},
   "execution_count": null
  },
  {
   "cell_type": "markdown",
   "source": [
    "Plot the data score and model score functions\n",
    "to see how well they match.\n",
    "The largest mismatch is in the tails of the distribution\n",
    "where there are few (if any) data points."
   ],
   "metadata": {}
  },
  {
   "outputs": [],
   "cell_type": "code",
   "source": [
    "ps = plot(data_score; xlims=(1,20), label = \"Data score function\",\n",
    "    xticks=[1,20], xlabel=L\"x\", color=:black)\n",
    "plot!(ps, score(model(θesm)); label = \"ESM score function\", color=:green)"
   ],
   "metadata": {},
   "execution_count": null
  },
  {
   "outputs": [],
   "cell_type": "code",
   "source": [
    "prompt()"
   ],
   "metadata": {},
   "execution_count": null
  },
  {
   "cell_type": "markdown",
   "source": [
    "## Maximum-likelihood estimation\n",
    "\n",
    "This toy example is simple enough\n",
    "that we can apply ML estimation to it directly.\n",
    "In fact, ML estimation is a seemingly more practical optimization problem\n",
    "than score matching in this case.\n",
    "\n",
    "As expected,\n",
    "ML estimation leads to a lower negative log-likelihood."
   ],
   "metadata": {}
  },
  {
   "outputs": [],
   "cell_type": "code",
   "source": [
    "negloglike(θ) = (-1/T) * sum(logpdf(model(θ)), data)\n",
    "opt_ml = optimize(negloglike, lower, upper, θ0, Fminbox(BFGS()); autodiff = :forward)\n",
    "##opt_ml = optimize(negloglike, θ0, BFGS(); autodiff = :forward)\n",
    "θml = minimizer(opt_ml)\n",
    "negloglike.([θml, θesm, θ0])"
   ],
   "metadata": {},
   "execution_count": null
  },
  {
   "cell_type": "markdown",
   "source": [
    "Curiously,\n",
    "ML estimation here leads to much worse fits to the pdf\n",
    "than score matching,\n",
    "even though we initialized the ML optimizer\n",
    "with the score-matching parameters.\n",
    "Perhaps the landscape of the log-likelihood\n",
    "is less well-behaved\n",
    "than that of the SM cost."
   ],
   "metadata": {}
  },
  {
   "outputs": [],
   "cell_type": "code",
   "source": [
    "plot!(pf, pdf(model(θml)), label = \"ML Gaussian mixture\", color=:magenta)\n",
    "plot!(ps, score(model(θml)), label = \"ML score function\", color=:magenta)\n",
    "plot(pf, ps)"
   ],
   "metadata": {},
   "execution_count": null
  },
  {
   "outputs": [],
   "cell_type": "code",
   "source": [
    "prompt()"
   ],
   "metadata": {},
   "execution_count": null
  },
  {
   "cell_type": "markdown",
   "source": [
    "## Implicit score matching (more practical)\n",
    "\n",
    "The above ESM fitting process\n",
    "used `score(data_dis)`,\n",
    "the score-function of the data distribution,\n",
    "which is unknown in practical situations.\n",
    "\n",
    "[Hyvärinen 2005](http://jmlr.org/papers/v6/hyvarinen05a.html)\n",
    "derived the following more practical cost function\n",
    "that is independent of the unknown data score function:\n",
    "$$\n",
    "J_{\\mathrm{ISM}}(\\mathbf{θ}) =\n",
    "\\frac{1}{T} ∑_{t=1}^T\n",
    "∑_{i=1}^N ∂_i s_i(\\mathbf{x}_t; \\mathbf{θ})\n",
    " + \\frac{1}{2} | s_i(\\mathbf{x}_t; \\mathbf{θ}) |^2,\n",
    "$$\n",
    "ignoring a constant that is independent of $θ,$\n",
    "where\n",
    "$$\n",
    "∂_i s_i(\\mathbf{x}; \\mathbf{θ})\n",
    "=\n",
    "\\frac{∂}{∂ x_i} s_i(\\mathbf{x}; \\mathbf{θ})\n",
    "=\n",
    "\\frac{∂^2}{∂ x_i^2} \\log p(\\mathbf{x}; \\mathbf{θ}).\n",
    "$$\n",
    "\n",
    "(For large models\n",
    "this version is still a bit impractical\n",
    "because it depends on the diagonal\n",
    "elements of the Hessian\n",
    "of the log prior.\n",
    "Subsequent pages deal with that issue.)\n",
    "\n",
    "[Vincent, 2011](https://doi.org/10.1162/NECO_a_00142)\n",
    "calls this approach\n",
    "_implicit score matching_ (ISM)."
   ],
   "metadata": {}
  },
  {
   "cell_type": "markdown",
   "source": [
    "Implicit score-matching cost function"
   ],
   "metadata": {}
  },
  {
   "outputs": [],
   "cell_type": "code",
   "source": [
    "function cost_ism2(x::AbstractVector{<:Real}, θ)\n",
    "    tmp = model(θ)\n",
    "    model_score = score(tmp)\n",
    "    return (1/T) * (sum(score_deriv(tmp), x) +\n",
    "        0.5 * sum(abs2 ∘ model_score, x))\n",
    "end;"
   ],
   "metadata": {},
   "execution_count": null
  },
  {
   "cell_type": "markdown",
   "source": [
    "Minimize this implicit score-matching cost function:"
   ],
   "metadata": {}
  },
  {
   "outputs": [],
   "cell_type": "code",
   "source": [
    "cost_ism1 = (θ) -> cost_ism2(data, θ)\n",
    "opt_ism = optimize(cost_ism1, lower, upper, θ0, Fminbox(BFGS()); autodiff = :forward)\n",
    "##opt_ism = optimize(cost_ism1, θ0, BFGS(); autodiff = :forward)\n",
    "θism = minimizer(opt_ism)\n",
    "cost_ism1.([θism, θesm, θml])"
   ],
   "metadata": {},
   "execution_count": null
  },
  {
   "outputs": [],
   "cell_type": "code",
   "source": [
    "plot!(pf, pdf(model(θism)), label = \"ISM Gaussian mixture\", color=:cyan)\n",
    "plot!(ps, score(model(θism)), label = \"ISM score function\", color=:cyan)\n",
    "pfs = plot(pf, ps)"
   ],
   "metadata": {},
   "execution_count": null
  },
  {
   "outputs": [],
   "cell_type": "code",
   "source": [
    "prompt()"
   ],
   "metadata": {},
   "execution_count": null
  },
  {
   "cell_type": "markdown",
   "source": [
    "Curiously the supposedly equivalent ISM cost function works much worse.\n",
    "Like the ML estimate,\n",
    "the first two $σ$ values are stuck at the `lower` limit.\n",
    "Could it be local extrema?\n",
    "More investigation is needed!\n",
    "\n",
    "Ideally\n",
    "(as $T → ∞$),\n",
    "the ESM and ISM cost functions\n",
    "should differ by a constant independent of $θ$.\n",
    "Here they differ for small, finite $T$."
   ],
   "metadata": {}
  },
  {
   "outputs": [],
   "cell_type": "code",
   "source": [
    "tmp = [θ0, θesm, θml, θism]\n",
    "cost_esm1.(tmp) - cost_ism1.(tmp)"
   ],
   "metadata": {},
   "execution_count": null
  },
  {
   "cell_type": "markdown",
   "source": [
    "## Regularized score matching\n",
    "\n",
    "[Kingma & LeCun, 2010](https://doi.org/10.5555/2997189.2997315)\n",
    "reported some instability of ISM\n",
    "and suggested a regularized version\n",
    "corresponding to the following (practical) cost function:\n",
    "\n",
    "$$\n",
    "J_{\\mathrm{RSM}}(\\mathbf{θ}) =\n",
    "J_{\\mathrm{ISM}}(\\mathbf{θ}) + λ R(\\mathbf{θ})\n",
    ",\\quad\n",
    "R(\\mathbf{θ}) =\n",
    "\\frac{1}{T} ∑_{t=1}^T\n",
    "∑_{i=1}^N | ∂_i s_i(\\mathbf{x}_t; \\mathbf{θ}) |^2.\n",
    "$$"
   ],
   "metadata": {}
  },
  {
   "cell_type": "markdown",
   "source": [
    "Regularized ISM cost function"
   ],
   "metadata": {}
  },
  {
   "outputs": [],
   "cell_type": "code",
   "source": [
    "function cost_rsm2(x::AbstractVector{<:Real}, θ, λ)\n",
    "    mod = model(θ)\n",
    "    model_score = score(mod)\n",
    "    tmp = score_deriv(mod).(x)\n",
    "    R = sum(abs2, tmp)\n",
    "    J_ism = sum(tmp) + 0.5 * sum(abs2 ∘ model_score, x)\n",
    "    return (1/T) * (J_ism + λ * R)\n",
    "end;"
   ],
   "metadata": {},
   "execution_count": null
  },
  {
   "cell_type": "markdown",
   "source": [
    "Minimize this regularized ISM cost function:"
   ],
   "metadata": {}
  },
  {
   "outputs": [],
   "cell_type": "code",
   "source": [
    "λ = 2e0\n",
    "cost_rsm1 = (θ) -> cost_rsm2(data, θ, λ)\n",
    "\n",
    "opt_rsm = optimize(cost_rsm1, lower, upper, θ0, Fminbox(BFGS());\n",
    " autodiff = :forward)\n",
    "θrsm = minimizer(opt_rsm)\n",
    "cost_rsm1.([θrsm, θ0, θism, θesm, θml])"
   ],
   "metadata": {},
   "execution_count": null
  },
  {
   "outputs": [],
   "cell_type": "code",
   "source": [
    "plot!(pf, pdf(model(θism)), label = \"RSM Gaussian mixture\", color=:red)\n",
    "plot!(ps, score(model(θism)), label = \"RSM score function\", color=:red)\n",
    "pfs = plot(pf, ps)"
   ],
   "metadata": {},
   "execution_count": null
  },
  {
   "outputs": [],
   "cell_type": "code",
   "source": [
    "prompt()"
   ],
   "metadata": {},
   "execution_count": null
  },
  {
   "cell_type": "markdown",
   "source": [
    "Sadly the regularized score matching (RSM) approach did not help much here.\n",
    "Increasing $λ$ led to `optimize` errors.\n",
    "\n",
    "\n",
    "## Denoising score matching (DSM)\n",
    "\n",
    "[Vincent, 2011](https://doi.org/10.1162/NECO_a_00142)\n",
    "proposed a practical approach\n",
    "called\n",
    "_denoising score matching_ (DSM)\n",
    "that matches\n",
    "the model score function\n",
    "to a Parzen density estimate\n",
    "of the form\n",
    "$$\n",
    "\\hat{p}(x) = \\frac{1}{T} ∑_{t=1}^T q(x - x_t; σ)\n",
    "$$\n",
    "where $q$ denotes a Gaussian distribution\n",
    "$\\mathcal{N}(0, σ)$.\n",
    "\n",
    "Statistically,\n",
    "this is equivalent\n",
    "(in expectation)\n",
    "to adding noise\n",
    "to the measurements,\n",
    "and then applying\n",
    "the ESM approach.\n",
    "The DSM cost function is\n",
    "$$\n",
    "J_{\\mathrm{DSM}}(\\mathbf{θ}) =\n",
    "E_{q(x,\\tilde(x))}\\left[\n",
    "\\frac{1}{2} s(\\tilde{x}; θ) - \\frac{x - \\tilde{x}}{σ^2}\n",
    "\\right].\n",
    "$$\n",
    "\n",
    "A benefit of this approach\n",
    "is that it does not require\n",
    "differentiating the model score function w.r.t $x$.\n",
    "todo DSM"
   ],
   "metadata": {}
  },
  {
   "cell_type": "markdown",
   "source": [
    "### Reproducibility"
   ],
   "metadata": {}
  },
  {
   "cell_type": "markdown",
   "source": [
    "This page was generated with the following version of Julia:"
   ],
   "metadata": {}
  },
  {
   "outputs": [],
   "cell_type": "code",
   "source": [
    "io = IOBuffer(); versioninfo(io); split(String(take!(io)), '\\n')"
   ],
   "metadata": {},
   "execution_count": null
  },
  {
   "cell_type": "markdown",
   "source": [
    "And with the following package versions"
   ],
   "metadata": {}
  },
  {
   "outputs": [],
   "cell_type": "code",
   "source": [
    "import Pkg; Pkg.status()"
   ],
   "metadata": {},
   "execution_count": null
  },
  {
   "cell_type": "markdown",
   "source": [
    "---\n",
    "\n",
    "*This notebook was generated using [Literate.jl](https://github.com/fredrikekre/Literate.jl).*"
   ],
   "metadata": {}
  }
 ],
 "nbformat_minor": 3,
 "metadata": {
  "language_info": {
   "file_extension": ".jl",
   "mimetype": "application/julia",
   "name": "julia",
   "version": "1.8.5"
  },
  "kernelspec": {
   "name": "julia-1.8",
   "display_name": "Julia 1.8.5",
   "language": "julia"
  }
 },
 "nbformat": 4
}
